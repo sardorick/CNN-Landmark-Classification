{
 "cells": [
  {
   "cell_type": "code",
   "execution_count": null,
   "metadata": {},
   "outputs": [],
   "source": [
    "from pyspark.sql import SparkSession\n",
    "from pyspark.sql.types import *\n",
    "from pyspark.ml.feature import VectorAssembler, StringIndexer\n",
    "from pyspark.ml.classification import RandomForestClassifier,DecisionTreeClassifier,GBTClassifier,LogisticRegression\n",
    "from pyspark.ml.evaluation import MulticlassClassificationEvaluator"
   ]
  },
  {
   "cell_type": "code",
   "execution_count": null,
   "metadata": {},
   "outputs": [],
   "source": [
    "spark = SparkSession.builder.appName('spark_clf').getOrCreate()"
   ]
  },
  {
   "cell_type": "code",
   "execution_count": null,
   "metadata": {},
   "outputs": [],
   "source": [
    "df= spark.read.csv('train.csv',header= True, inferSchema=True)\n",
    "#df_test= spark.read.csv('test.csv',header= True, inferSchema=True)\n",
    "\n"
   ]
  },
  {
   "cell_type": "code",
   "execution_count": null,
   "metadata": {},
   "outputs": [],
   "source": [
    "schema = StructType([\n",
    "                        StructField('feature_0',IntegerType()), StructField('feature_1',IntegerType()),StructField('feature_2',IntegerType()),StructField('feature_3',IntegerType()),StructField('feature_4',IntegerType()),\n",
    "                        StructField('feature_5',IntegerType()), StructField('feature_6',IntegerType()),StructField('feature_7',IntegerType()),StructField('feature_8',IntegerType()),StructField('feature_9',IntegerType()),\n",
    "                        StructField('feature_10',IntegerType()), StructField('feature_11',IntegerType()),StructField('feature_12',IntegerType()),StructField('feature_13',IntegerType()),StructField('feature_14',IntegerType()),\n",
    "                        StructField('feature_15',IntegerType()), StructField('feature_16',IntegerType()),StructField('feature_17',IntegerType()),StructField('feature_18',IntegerType()),StructField('feature_19',IntegerType()),\n",
    "                        StructField('feature_20',IntegerType()), StructField('feature_21',IntegerType()),StructField('feature_22',IntegerType()),StructField('feature_23',IntegerType()),StructField('feature_24',IntegerType()),\n",
    "                        StructField('feature_25',IntegerType()), StructField('feature_26',IntegerType()),StructField('feature_27',IntegerType()),StructField('feature_28',IntegerType()),StructField('feature_29',IntegerType()),\n",
    "                        StructField('feature_30',IntegerType()), StructField('feature_31',IntegerType()),StructField('feature_32',IntegerType()),StructField('feature_33',IntegerType()),StructField('feature_34',IntegerType()),\n",
    "                        StructField('feature_35',IntegerType()), StructField('feature_36',IntegerType()),StructField('feature_37',IntegerType()),StructField('feature_38',IntegerType()),StructField('feature_39',IntegerType()),\n",
    "                        StructField('feature_40',IntegerType()), StructField('feature_41',IntegerType()),StructField('feature_42',IntegerType()),StructField('feature_43',IntegerType()),StructField('feature_44',IntegerType()),\n",
    "                        StructField('feature_45',IntegerType()), StructField('feature_46',IntegerType()),StructField('feature_47',IntegerType()),StructField('feature_48',IntegerType()),StructField('feature_49',IntegerType()),\n",
    "                        \n",
    "                        StructField('target',StringType())\n",
    "])"
   ]
  },
  {
   "cell_type": "code",
   "execution_count": null,
   "metadata": {},
   "outputs": [],
   "source": [
    "df= spark.read.csv('train.csv',header= True, inferSchema=True)\n",
    "# df_test= spark.read.csv('test.csv',header= True, inferSchema=True)"
   ]
  },
  {
   "cell_type": "code",
   "execution_count": null,
   "metadata": {},
   "outputs": [],
   "source": [
    "# import pandas as pd \n",
    "# df = pd.read_csv('train.csv')\n",
    "# #df\n",
    "# # df.printSchema()\n",
    "# df.info()\n"
   ]
  },
  {
   "cell_type": "code",
   "execution_count": null,
   "metadata": {},
   "outputs": [],
   "source": [
    "input_col = ['feature_0','feature_1', 'feature_2', 'feature_3', 'feature_4', 'feature_5','feature_6', 'feature_7', 'feature_8', 'feature_9', 'feature_10', 'feature_11',\n",
    "            'feature_12', 'feature_13', 'feature_14', 'feature_15', 'feature_16', 'feature_17', 'feature_18', 'feature_19', 'feature_20', 'feature_21', 'feature_22',\n",
    "            'feature_23', 'feature_24', 'feature_25', 'feature_26', 'feature_27', 'feature_28', 'feature_29', 'feature_30', 'feature_31', 'feature_32', 'feature_33',\n",
    "            'feature_34', 'feature_35', 'feature_36', 'feature_37', 'feature_38', 'feature_39', 'feature_40', 'feature_41', 'feature_42', 'feature_43', 'feature_44',\n",
    "            'feature_45', 'feature_46', 'feature_47', 'feature_48', 'feature_49']\n",
    "vectorizer = VectorAssembler(inputCols=input_col, outputCol='features')\n",
    "df=vectorizer.transform(df)\n",
    "# df_test_=vectorizer.transform(df_t\n",
    "df.show(5)\n"
   ]
  },
  {
   "cell_type": "code",
   "execution_count": null,
   "metadata": {},
   "outputs": [],
   "source": [
    "indexer = StringIndexer(inputCol = 'target', outputCol='indexed_type')\n",
    "df = indexer.fit(df).transform(df)\n",
    "df.show(5)"
   ]
  },
  {
   "cell_type": "code",
   "execution_count": null,
   "metadata": {},
   "outputs": [],
   "source": [
    "\n",
    "df_train, df_test = df.randomSplit([0.8,0.2], seed=0)\n",
    "df_test.show(5)"
   ]
  },
  {
   "cell_type": "code",
   "execution_count": null,
   "metadata": {},
   "outputs": [],
   "source": [
    "rf_clf =LogisticRegression( labelCol='indexed_type' )\n",
    "rf_clf= rf_clf.fit(df_train)\n"
   ]
  },
  {
   "cell_type": "code",
   "execution_count": null,
   "metadata": {},
   "outputs": [],
   "source": [
    "df_test = rf_clf.transform(df_test)\n",
    "df_test.show()"
   ]
  },
  {
   "cell_type": "code",
   "execution_count": null,
   "metadata": {},
   "outputs": [],
   "source": [
    "df_test.select('target','features','indexed_type','rawPrediction','probability','prediction').show(10)"
   ]
  },
  {
   "cell_type": "code",
   "execution_count": null,
   "metadata": {},
   "outputs": [],
   "source": [
    "criterion =MulticlassClassificationEvaluator(labelCol='indexed_type', predictionCol='prediction')\n",
    "acc = criterion.evaluate(df_test)\n",
    "acc"
   ]
  },
  {
   "cell_type": "code",
   "execution_count": null,
   "metadata": {},
   "outputs": [],
   "source": [
    "# # Select All columns from List\n",
    "# df.select(columns).show()\n",
    "\n",
    "# # Select All columns\n",
    "# df.select([col for col in df.columns]).show()\n",
    "# df.select(\"\").show()"
   ]
  }
 ],
 "metadata": {
  "kernelspec": {
   "display_name": "Python 3.10.4 ('env')",
   "language": "python",
   "name": "python3"
  },
  "language_info": {
   "codemirror_mode": {
    "name": "ipython",
    "version": 3
   },
   "file_extension": ".py",
   "mimetype": "text/x-python",
   "name": "python",
   "nbconvert_exporter": "python",
   "pygments_lexer": "ipython3",
   "version": "3.10.4"
  },
  "orig_nbformat": 4,
  "vscode": {
   "interpreter": {
    "hash": "6224f92725d0a0c534f49b5d1f4f75ee769a2a10d915fa1ac740c9cc8c1e74f9"
   }
  }
 },
 "nbformat": 4,
 "nbformat_minor": 2
}
